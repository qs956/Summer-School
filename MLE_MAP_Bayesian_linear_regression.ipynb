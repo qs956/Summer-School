{
 "cells": [
  {
   "cell_type": "markdown",
   "metadata": {},
   "source": [
    "# MLE & MAP & Bayesian linear regression"
   ]
  },
  {
   "cell_type": "markdown",
   "metadata": {},
   "source": [
    "Name: [罗梓颖]\n",
    "\n",
    "Skeleton framework for you to fill in (Code you need to provide is marked by `###`):"
   ]
  },
  {
   "cell_type": "code",
   "execution_count": 1,
   "metadata": {
    "collapsed": true
   },
   "outputs": [],
   "source": [
    "import scipy.io as sio\n",
    "import matplotlib.pyplot as plt  \n",
    "import numpy as np \n",
    "from numpy import linalg\n",
    "import pandas as pd"
   ]
  },
  {
   "cell_type": "code",
   "execution_count": 2,
   "metadata": {
    "collapsed": true
   },
   "outputs": [],
   "source": [
    "def make_data(W, m=20, area_interval=[70,200], noise_mu=0, noise_sigma=400):\n",
    "    \"\"\"\n",
    "    Function: Creat the simulation data\n",
    "    Input:    \n",
    "              W:                The real weight\n",
    "              m:                The number of data\n",
    "              area_interval:    The area interval of house\n",
    "              noise_mu:         The expectation of Gaussian noise\n",
    "              noise_sigma:      The variance of Gaussian noise\n",
    "    Output:   \n",
    "              x:                The area of house\n",
    "              y:                The price of house\n",
    "    \"\"\"\n",
    "    \n",
    "    x = (area_interval[1]-area_interval[0]) * np.random.rand(20,1) + area_interval[0]\n",
    "    x = np.column_stack( (x , np.ones([m,1])))\n",
    "    y = x.dot(W.T) + (np.random.randn(m)*np.sqrt(noise_sigma) + noise_mu)\n",
    "    return [x, y]"
   ]
  },
  {
   "cell_type": "code",
   "execution_count": 3,
   "metadata": {
    "collapsed": false
   },
   "outputs": [
    {
     "data": {
      "image/png": "[encoded data removed]",
      "text/plain": [
       "<matplotlib.figure.Figure at 0x244c5ecb8d0>"
      ]
     },
     "metadata": {},
     "output_type": "display_data"
    }
   ],
   "source": [
    "# make data\n",
    "W_real = np.array([3, 30])\n",
    "train_m = 20\n",
    "[train_x, train_y] = make_data(W_real,train_m)\n",
    "[test_x, test_y] = make_data(W_real)\n",
    "\n",
    "# draw the train data\n",
    "plt.plot(train_x[:,0], train_y, 'o')\n",
    "plt.plot(train_x[:,0], train_x.dot(W_real))\n",
    "plt.show()\n"
   ]
  },
  {
   "cell_type": "markdown",
   "metadata": {},
   "source": [
    "# Maximum Likelihood Estimation"
   ]
  },
  {
   "cell_type": "code",
   "execution_count": 4,
   "metadata": {
    "collapsed": true
   },
   "outputs": [],
   "source": [
    "def MLE_train(x, y):\n",
    "    \"\"\"\n",
    "    Function: Calculate the weight and beta by Maximum Likelihood Estimation\n",
    "    Input:    \n",
    "              x:                Design matrix of training data, size:[num_sample dimension]\n",
    "              y:                Training real value, size: [num_sample 1]\n",
    "    Output:   \n",
    "              W:                The weight which be calculated by Maximum Likelihood Estimation\n",
    "              beta:             The beta which be calculated by Maximum Likelihood Estimation\n",
    "    \"\"\"\n",
    "    \n",
    "    # Your code\n",
    "    # Here you should calculate the weight . \n",
    "    # You may use two functions:\n",
    "    # 1. linalg.pinv(). This function is used to solve the pseudo-inverse of the matrix.\n",
    "    #求逆矩阵\n",
    "    # You can know more about it from https://docs.scipy.org/doc/numpy/reference/generated/numpy.linalg.pinv.html.\n",
    "    # 2. np.dot(). This function is dot product of two arrays.\n",
    "    #计算向量内积\n",
    "    # You can know more about it from https://docs.scipy.org/doc/numpy/reference/generated/numpy.dot.html.\n",
    "    W = np.dot(np.dot(linalg.pinv(np.dot(x.T,x)),x.T),y)\n",
    "    \n",
    "    tmp = y-x.dot(W.T)\n",
    "    beta = tmp.T.dot(tmp)/tmp.shape[0]\n",
    "    return [W, beta]"
   ]
  },
  {
   "cell_type": "code",
   "execution_count": 5,
   "metadata": {
    "collapsed": true
   },
   "outputs": [],
   "source": [
    "def MLE_test(x, y, W, problem_type='regression', retained_digit=0):\n",
    "    \"\"\"\n",
    "    Function: Predict the testing data\n",
    "    Input:    \n",
    "              x:                Design matrix of training data, size:[num_sample dimension]\n",
    "              y:                Training real value, size: [num_sample 1]\n",
    "              W:                The weight which be calculated by Maximum Likelihood Estimation\n",
    "              problem_type:     The type of problem which you want to slove. Only regression and classification\n",
    "              retained_digit:   The parameter used to classification\n",
    "    Output:   \n",
    "              t:                Prediction of testing data\n",
    "    \"\"\"\n",
    "    \n",
    "    # Your code\n",
    "    # Here, the variable t is the prediction of testing data, and you should calculate it.\n",
    "    t = np.dot(x,W)\n",
    "    \n",
    "    # Three kinds of errors\n",
    "    er = t - y\n",
    "    MSE = (er**2).mean()                      # Mean Squared Error\n",
    "    MAE = abs(er).mean()                      # Average Absolute Error\n",
    "    SD = np.sqrt((( er-er.mean())**2).mean()) # Error Standard Deviation\n",
    "    \n",
    "    if problem_type=='classification':\n",
    "        acc = np.equal(np.round(t, retained_digit), y).mean() * 100\n",
    "        text = \"The Linear Regression's accuracy is %.2f%%.\" %(acc)\n",
    "        print(text)\n",
    "    \n",
    "    obj = pd.Series([MSE,MAE,SD], index=['MSE','MAE','SD'])\n",
    "    print(obj)\n",
    "    \n",
    "    return t"
   ]
  },
  {
   "cell_type": "code",
   "execution_count": 6,
   "metadata": {
    "collapsed": false
   },
   "outputs": [
    {
     "name": "stdout",
     "output_type": "stream",
     "text": [
      "[  3.05816908  21.27702096]\n"
     ]
    }
   ],
   "source": [
    "[W_MLE,beta] = MLE_train(train_x, train_y)\n",
    "print(W_MLE)"
   ]
  },
  {
   "cell_type": "code",
   "execution_count": 7,
   "metadata": {
    "collapsed": false
   },
   "outputs": [
    {
     "name": "stdout",
     "output_type": "stream",
     "text": [
      "MSE    445.084291\n",
      "MAE     18.585418\n",
      "SD      20.852912\n",
      "dtype: float64\n"
     ]
    },
    {
     "data": {
      "image/png": "[encoded data removed]",
      "text/plain": [
       "<matplotlib.figure.Figure at 0x244c4a66828>"
      ]
     },
     "metadata": {},
     "output_type": "display_data"
    }
   ],
   "source": [
    "t = MLE_test(test_x, test_y, W_MLE)\n",
    "# draw the train data\n",
    "plt.plot(train_x[:,0], train_y, 'o')\n",
    "plt.plot(train_x[:,0], train_x.dot(W_MLE.T))\n",
    "plt.show()"
   ]
  },
  {
   "cell_type": "markdown",
   "metadata": {},
   "source": [
    "# Maximum A Posteriori"
   ]
  },
  {
   "cell_type": "code",
   "execution_count": 8,
   "metadata": {
    "collapsed": true
   },
   "outputs": [],
   "source": [
    "def MAP_train(x, y, beta, prior_mu_w=None, prior_cov_w=None):\n",
    "    \"\"\"\n",
    "    Function: Calculate the weight and beta by Maximum A Posteriori\n",
    "    Input:    \n",
    "              x:                Design matrix of training data, size:[num_sample dimension]\n",
    "              y:                Training real value, size: [num_sample 1]\n",
    "              beta:             The precision of Gaussian random variables\n",
    "              prior_mu_w:       The mean of conjugate prior distribution, size: [dimension 1]\n",
    "              prior_cov_w:      The covariance of conjugate prior distribution, size: [dimension dimension]\n",
    "    Output:   \n",
    "              W:                The weight which be calculated by Maximum A Posteriori\n",
    "    \"\"\"\n",
    "    \n",
    "    m, d = x.shape \n",
    "    # The variable m is the number of the training data. \n",
    "    #The variable d is the dimension of the training data.\n",
    "    if prior_mu_w is None:  prior_mu_w = np.zeros((d,1))\n",
    "    #d行1列零矩阵\n",
    "    if prior_cov_w is None: prior_cov_w = 1*np.eye(d)\n",
    "    #单位阵\n",
    "    \n",
    "    alpha = np.diag(prior_cov_w)\n",
    "    #返回主对角线元素构成的矩阵\n",
    "    \n",
    "    lamb = alpha / beta\n",
    "    # Your code\n",
    "    # Here you should calculate the weight.\n",
    "    W = np.dot(np.dot(linalg.pinv(np.dot(x.T,x)+lamb*np.eye(d,d)),x.T),y)\n",
    "    \n",
    "    return W"
   ]
  },
  {
   "cell_type": "code",
   "execution_count": 9,
   "metadata": {
    "collapsed": true
   },
   "outputs": [],
   "source": [
    "def MAP_test(x, y, W, problem_type='regression', retained_digit=0):\n",
    "    \"\"\"\n",
    "    Function: Predict the testing data\n",
    "    Input:    \n",
    "              x:                Design matrix of training data, size:[num_sample dimension]\n",
    "              y:                Training real value, size: [num_sample 1]\n",
    "              W:                The weight which be calculated by Maximum A Posteriori\n",
    "              problem_type:     The type of problem which you want to slove. Only regression and classification\n",
    "              retained_digit:   The parameter used to classification\n",
    "    Output:   \n",
    "              t:                Prediction of testing data\n",
    "    \"\"\"\n",
    "    \n",
    "    # Your code\n",
    "    # Here, the variable t is the prediction of testing data, and you should calculate it.\n",
    "    t = np.dot(x,W)\n",
    "    \n",
    "    # Three kinds of errors\n",
    "    er = t - y\n",
    "    MSE = (er**2).mean()                      # Mean Squared Error\n",
    "    MAE = abs(er).mean()                      # Average Absolute Error\n",
    "    SD = np.sqrt((( er-er.mean())**2).mean()) # Error Standard Deviation\n",
    "    \n",
    "    if problem_type=='classification':\n",
    "        acc = np.equal(np.round(t, retained_digit), y).mean() * 100\n",
    "        text = \"The Linear Regression's accuracy is %.2f%%.\" %(acc)\n",
    "        print(text)\n",
    "    \n",
    "    obj = pd.Series([MSE,MAE,SD], index=['MSE','MAE','SD'])\n",
    "    print(obj)\n",
    "    \n",
    "    return t"
   ]
  },
  {
   "cell_type": "code",
   "execution_count": 10,
   "metadata": {
    "collapsed": false
   },
   "outputs": [
    {
     "name": "stdout",
     "output_type": "stream",
     "text": [
      "[  3.11868108  12.4903774 ]\n"
     ]
    }
   ],
   "source": [
    "W_MAP = MAP_train(train_x, train_y, beta=1, prior_cov_w=1*np.eye(2))\n",
    "print(W_MAP)"
   ]
  },
  {
   "cell_type": "code",
   "execution_count": 11,
   "metadata": {
    "collapsed": false
   },
   "outputs": [
    {
     "name": "stdout",
     "output_type": "stream",
     "text": [
      "MSE    422.356530\n",
      "MAE     18.122730\n",
      "SD      20.408424\n",
      "dtype: float64\n"
     ]
    },
    {
     "data": {
      "image/png": "[encoded data removed]",
      "text/plain": [
       "<matplotlib.figure.Figure at 0x244c6071400>"
      ]
     },
     "metadata": {},
     "output_type": "display_data"
    }
   ],
   "source": [
    "t = MLE_test(test_x, test_y, W_MAP)\n",
    "# draw the train data\n",
    "plt.plot(train_x[:,0], train_y, 'o')\n",
    "plt.plot(train_x[:,0], train_x.dot(W_MAP.T))\n",
    "plt.show()"
   ]
  },
  {
   "cell_type": "markdown",
   "metadata": {},
   "source": [
    "# Bayesian linear regression"
   ]
  },
  {
   "cell_type": "code",
   "execution_count": 12,
   "metadata": {
    "collapsed": true
   },
   "outputs": [],
   "source": [
    "def BLR_train(x, y, beta=100, prior_mu_w=None, prior_cov_w=None):\n",
    "    \"\"\"\n",
    "    Function: Calculate the expectation and covariance of posterior distribution\n",
    "    Input:    \n",
    "              x:              Design matrix of training data, size:[num_sample dimension]\n",
    "              y:                Training Label, size: [num_sample 1]\n",
    "              beta:             The precision of Gaussian random variables\n",
    "              prior_mu_w:       The mean of conjugate prior distribution, size: [dimension 1]\n",
    "              prior_cov_w:      The covariance of conjugate prior distribution, size: [dimension dimension]\n",
    "    Output:   \n",
    "              posterior_mu_w:   The expectation of posterior distribution\n",
    "              posterior_cov_w:  The covariance of posterior distribution\n",
    "    \"\"\"\n",
    "    y = y[:, np.newaxis]\n",
    "    m, d = x.shape \n",
    "    # The variable m is the number of the training data. \n",
    "    #The variable d is the dimension of the training data.\n",
    "    if prior_mu_w == None:  prior_mu_w = np.zeros((d,1))\n",
    "    if prior_cov_w == None: prior_cov_w = 0.1*np.eye(d)\n",
    "    \n",
    "    # your code. \n",
    "    # Here, you should calculate the expectation posterior_mu_w and the covariance posterior_cov_w of posterior distribution\n",
    "    posterior_cov_w = linalg.pinv(prior_cov_w)+beta*np.dot(x.T,x)\n",
    "    posterior_mu_w = np.dot(linalg.pinv(posterior_cov_w),np.dot(linalg.pinv(prior_cov_w),prior_mu_w)+beta*np.dot(x.T,y))\n",
    "    \n",
    "    return posterior_mu_w, posterior_cov_w"
   ]
  },
  {
   "cell_type": "code",
   "execution_count": 115,
   "metadata": {
    "collapsed": false
   },
   "outputs": [],
   "source": [
    "def BLR_test(x, y, posterior_mu_w, posterior_cov_w, problem_type='regression', \n",
    "                  beta=100, sampling_size=1000, output_type='mode', retained_digit=0):\n",
    "    \"\"\"\n",
    "    Function: Predict the testing data\n",
    "    Input:\n",
    "              x:              Design matrix of testing data\n",
    "              y:                Testing Label\n",
    "              posterior_mu_w:   The expectation of posterior distribution\n",
    "              posterior_cov_w:  The covariance of posterior distribution\n",
    "              problem_type:     The type of problem which you want to slove. Only regression and classification\n",
    "              beta:             The precision of Gaussian random variables\n",
    "              sampling_size:    The sampling size of weight w\n",
    "              output_type:      There are three types of output\n",
    "                   'mode':      The mode of each data prediction sequences\n",
    "                   'mean':      The mean of each data prediction sequences \n",
    "                    'all':      Each intact data prediction sequences \n",
    "    Output:\n",
    "              t:                Prediction of testing data\n",
    "    \"\"\"\n",
    "    # your code\n",
    "    # Here, You need to sample the weight w from its distribution and calculate the prediction of testing data.\n",
    "    # You may use the function \"np.random.multivariate_normal\"  to sample the weight. \n",
    "    # If you don't know how to use the function, you can input \"help(np.random.multivariate_normal)\" or contact us.\n",
    "    posterior_mu_w = posterior_mu_w.reshape(-1)\n",
    "    \n",
    "    \n",
    "    \n",
    "    w = np.random.multivariate_normal(posterior_mu_w,posterior_cov_w,sampling_size)\n",
    "    t = np.dot(x,w.T)\n",
    "    print('1',t)\n",
    "    \n",
    "    if output_type=='mean':\n",
    "        t = np.mean(t,1)[:, np.newaxis]\n",
    "    else:\n",
    "        t = pd.DataFrame(np.round(t, retained_digit)).mode(1).as_matrix(columns=None)\n",
    "        print('2',t)\n",
    "        t = t[:,0:1]\n",
    "    \n",
    "    # Three kinds of errors\n",
    "    \n",
    "    print('3',t)\n",
    "    er = t - y\n",
    "    MSE = (er**2).mean()                      # Mean Squared Error\n",
    "    MAE = abs(er).mean()                      # Average Absolute Error\n",
    "    SD = np.sqrt((( er-er.mean())**2).mean()) # Error Standard Deviation\n",
    "    \n",
    "    if problem_type=='classification':\n",
    "        acc = np.equal(np.round(t, retained_digit), y).mean() * 100\n",
    "        text = \"The Linear Regression's accuracy is %.2f%%.\" %(acc)\n",
    "        print(text)\n",
    "    \n",
    "    obj = pd.Series([MSE,MAE,SD], index=['MSE','MAE','SD'])\n",
    "    print(obj)\n",
    "    \n",
    "    if output_type=='all':\n",
    "        return x.dot(w.T)\n",
    "    return t"
   ]
  },
  {
   "cell_type": "code",
   "execution_count": 116,
   "metadata": {
    "collapsed": false
   },
   "outputs": [
    {
     "name": "stdout",
     "output_type": "stream",
     "text": [
      "[[  3.11868108]\n",
      " [ 12.4903774 ]]\n",
      "[[  3.91667109e+06   2.69768772e+04]\n",
      " [  2.69768772e+04   2.10000000e+02]]\n"
     ]
    }
   ],
   "source": [
    "[posterior_mu_w, posterior_cov_w] = BLR_train(train_x, train_y, beta=10)\n",
    "print(posterior_mu_w)\n",
    "print(posterior_cov_w)"
   ]
  },
  {
   "cell_type": "code",
   "execution_count": 117,
   "metadata": {
    "collapsed": false
   },
   "outputs": [
    {
     "name": "stdout",
     "output_type": "stream",
     "text": [
      "1 [[ -92584.42375852  229648.52829452 -221755.26041522 ..., -120374.53066168\n",
      "    58264.22191327  133306.32177241]\n",
      " [ -91768.83034725  227625.9094304  -219802.00729821 ..., -119314.14766886\n",
      "    57751.20277932  132132.30081608]\n",
      " [-123266.39627299  305737.83399323 -295235.08212735 ..., -160265.29165954\n",
      "    77563.59185627  177472.05216652]\n",
      " ..., \n",
      " [ -72204.51584892  179107.67593198 -172947.70741318 ...,  -93877.86278295\n",
      "    45444.98801408  103970.08800296]\n",
      " [-133918.1704943   332153.54454044 -320744.8654482  ..., -174114.05511389\n",
      "    84263.69991319  192804.94473905]\n",
      " [-116923.60980263  290008.13413456 -280044.83258325 ..., -152018.80167164\n",
      "    73573.89456731  168341.81136909]]\n",
      "2 []\n",
      "3 []\n"
     ]
    },
    {
     "ename": "ValueError",
     "evalue": "operands could not be broadcast together with shapes (20,0) (20,) ",
     "output_type": "error",
     "traceback": [
      "\u001b[0;31m---------------------------------------------------------------------------\u001b[0m",
      "\u001b[0;31mValueError\u001b[0m                                Traceback (most recent call last)",
      "\u001b[0;32m<ipython-input-117-a9f7ada63403>\u001b[0m in \u001b[0;36m<module>\u001b[0;34m()\u001b[0m\n\u001b[0;32m----> 1\u001b[0;31m \u001b[0mt\u001b[0m \u001b[1;33m=\u001b[0m \u001b[0mBLR_test\u001b[0m\u001b[1;33m(\u001b[0m\u001b[0mtest_x\u001b[0m\u001b[1;33m,\u001b[0m \u001b[0mtest_y\u001b[0m\u001b[1;33m,\u001b[0m \u001b[0mposterior_mu_w\u001b[0m\u001b[1;33m,\u001b[0m \u001b[0mposterior_cov_w\u001b[0m\u001b[1;33m,\u001b[0m \u001b[0msampling_size\u001b[0m\u001b[1;33m=\u001b[0m\u001b[1;36m100\u001b[0m\u001b[1;33m,\u001b[0m \u001b[0moutput_type\u001b[0m\u001b[1;33m=\u001b[0m\u001b[1;34m'all'\u001b[0m\u001b[1;33m,\u001b[0m \u001b[0mretained_digit\u001b[0m\u001b[1;33m=\u001b[0m\u001b[1;36m2\u001b[0m\u001b[1;33m)\u001b[0m\u001b[1;33m\u001b[0m\u001b[0m\n\u001b[0m\u001b[1;32m      2\u001b[0m \u001b[0mplt\u001b[0m\u001b[1;33m.\u001b[0m\u001b[0mfigure\u001b[0m\u001b[1;33m(\u001b[0m\u001b[0mfigsize\u001b[0m\u001b[1;33m=\u001b[0m\u001b[1;33m(\u001b[0m\u001b[1;36m10\u001b[0m\u001b[1;33m,\u001b[0m\u001b[1;36m10\u001b[0m\u001b[1;33m)\u001b[0m\u001b[1;33m)\u001b[0m\u001b[1;33m\u001b[0m\u001b[0m\n\u001b[1;32m      3\u001b[0m \u001b[0mplt\u001b[0m\u001b[1;33m.\u001b[0m\u001b[0mplot\u001b[0m\u001b[1;33m(\u001b[0m\u001b[0mtest_x\u001b[0m\u001b[1;33m[\u001b[0m\u001b[1;33m:\u001b[0m\u001b[1;33m,\u001b[0m\u001b[1;36m0\u001b[0m\u001b[1;33m]\u001b[0m\u001b[1;33m,\u001b[0m \u001b[0mt\u001b[0m\u001b[1;33m,\u001b[0m \u001b[1;34m'b'\u001b[0m\u001b[1;33m)\u001b[0m\u001b[1;33m\u001b[0m\u001b[0m\n\u001b[1;32m      4\u001b[0m \u001b[0mplt\u001b[0m\u001b[1;33m.\u001b[0m\u001b[0mplot\u001b[0m\u001b[1;33m(\u001b[0m\u001b[0mtest_x\u001b[0m\u001b[1;33m[\u001b[0m\u001b[1;33m:\u001b[0m\u001b[1;33m,\u001b[0m\u001b[1;36m0\u001b[0m\u001b[1;33m]\u001b[0m\u001b[1;33m,\u001b[0m \u001b[0mtest_x\u001b[0m\u001b[1;33m.\u001b[0m\u001b[0mdot\u001b[0m\u001b[1;33m(\u001b[0m\u001b[0mW_real\u001b[0m\u001b[1;33m.\u001b[0m\u001b[0mT\u001b[0m\u001b[1;33m)\u001b[0m\u001b[1;33m,\u001b[0m \u001b[1;34m'r'\u001b[0m\u001b[1;33m)\u001b[0m\u001b[1;33m\u001b[0m\u001b[0m\n\u001b[1;32m      5\u001b[0m \u001b[0mplt\u001b[0m\u001b[1;33m.\u001b[0m\u001b[0mshow\u001b[0m\u001b[1;33m(\u001b[0m\u001b[1;33m)\u001b[0m\u001b[1;33m\u001b[0m\u001b[0m\n",
      "\u001b[0;32m<ipython-input-115-871f3b0c5187>\u001b[0m in \u001b[0;36mBLR_test\u001b[0;34m(x, y, posterior_mu_w, posterior_cov_w, problem_type, beta, sampling_size, output_type, retained_digit)\u001b[0m\n\u001b[1;32m     40\u001b[0m \u001b[1;33m\u001b[0m\u001b[0m\n\u001b[1;32m     41\u001b[0m     \u001b[0mprint\u001b[0m\u001b[1;33m(\u001b[0m\u001b[1;34m'3'\u001b[0m\u001b[1;33m,\u001b[0m\u001b[0mt\u001b[0m\u001b[1;33m)\u001b[0m\u001b[1;33m\u001b[0m\u001b[0m\n\u001b[0;32m---> 42\u001b[0;31m     \u001b[0mer\u001b[0m \u001b[1;33m=\u001b[0m \u001b[0mt\u001b[0m \u001b[1;33m-\u001b[0m \u001b[0my\u001b[0m\u001b[1;33m\u001b[0m\u001b[0m\n\u001b[0m\u001b[1;32m     43\u001b[0m     \u001b[0mMSE\u001b[0m \u001b[1;33m=\u001b[0m \u001b[1;33m(\u001b[0m\u001b[0mer\u001b[0m\u001b[1;33m**\u001b[0m\u001b[1;36m2\u001b[0m\u001b[1;33m)\u001b[0m\u001b[1;33m.\u001b[0m\u001b[0mmean\u001b[0m\u001b[1;33m(\u001b[0m\u001b[1;33m)\u001b[0m                      \u001b[1;31m# Mean Squared Error\u001b[0m\u001b[1;33m\u001b[0m\u001b[0m\n\u001b[1;32m     44\u001b[0m     \u001b[0mMAE\u001b[0m \u001b[1;33m=\u001b[0m \u001b[0mabs\u001b[0m\u001b[1;33m(\u001b[0m\u001b[0mer\u001b[0m\u001b[1;33m)\u001b[0m\u001b[1;33m.\u001b[0m\u001b[0mmean\u001b[0m\u001b[1;33m(\u001b[0m\u001b[1;33m)\u001b[0m                      \u001b[1;31m# Average Absolute Error\u001b[0m\u001b[1;33m\u001b[0m\u001b[0m\n",
      "\u001b[0;31mValueError\u001b[0m: operands could not be broadcast together with shapes (20,0) (20,) "
     ]
    }
   ],
   "source": [
    "t = BLR_test(test_x, test_y, posterior_mu_w, posterior_cov_w, sampling_size=100, output_type='all', retained_digit=2)\n",
    "plt.figure(figsize=(10,10)) \n",
    "plt.plot(test_x[:,0], t, 'b')\n",
    "plt.plot(test_x[:,0], test_x.dot(W_real.T), 'r')\n",
    "plt.show()\n",
    "print('The blue lines are the image of  Bayesian Linear Regression estimated parameters. The red one is the true parameters.')"
   ]
  },
  {
   "cell_type": "code",
   "execution_count": null,
   "metadata": {
    "collapsed": true
   },
   "outputs": [],
   "source": []
  },
  {
   "cell_type": "markdown",
   "metadata": {},
   "source": [
    "如果你有什么疑问或者收获, 你可以在这里记录下来.\n",
    "###"
   ]
  },
  {
   "cell_type": "code",
   "execution_count": null,
   "metadata": {
    "collapsed": true
   },
   "outputs": [],
   "source": []
  }
 ],
 "metadata": {
  "kernelspec": {
   "display_name": "Python 3",
   "language": "python",
   "name": "python3"
  },
  "language_info": {
   "codemirror_mode": {
    "name": "ipython",
    "version": 3
   },
   "file_extension": ".py",
   "mimetype": "text/x-python",
   "name": "python",
   "nbconvert_exporter": "python",
   "pygments_lexer": "ipython3",
   "version": "3.6.0"
  }
 },
 "nbformat": 4,
 "nbformat_minor": 2
}
